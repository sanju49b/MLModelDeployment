{
 "cells": [
  {
   "cell_type": "markdown",
   "metadata": {},
   "source": [
    "## AWS EC2 with Boto3 Python Tutorial "
   ]
  },
  {
   "cell_type": "markdown",
   "metadata": {},
   "source": [
    "https://boto3.amazonaws.com/v1/documentation/api/latest/guide/quickstart.html"
   ]
  },
  {
   "attachments": {
    "image.png": {
     "image/png": "[encoded data removed]"
    }
   },
   "cell_type": "markdown",
   "metadata": {},
   "source": [
    "![image.png](attachment:image.png)"
   ]
  },
  {
   "cell_type": "markdown",
   "metadata": {},
   "source": [
    "Amazon Elastic Compute Cloud (Amazon EC2) is a web service that provides resizeable computing capacity in servers in Amazon's data centers—that you use to build and host your software systems."
   ]
  },
  {
   "cell_type": "markdown",
   "metadata": {},
   "source": [
    "- Create Key-Pair for Secure Connection\n",
    "- Create an Amazon EC2 instance\n",
    "    - test with ip address in browser\n",
    "    - test with ssh connection\n",
    "- Create Security Group and add rules to it\n",
    "- Attaching and Detaching Security Groups to Amazon EC2 instances\n",
    "    - test with ip address in browser\n",
    "    - test with ssh connection\n",
    "- Start, Stop and Delete Amazon EC2 instances"
   ]
  },
  {
   "cell_type": "markdown",
   "metadata": {},
   "source": [
    "## Create Key-Pair for Secure Connection"
   ]
  },
  {
   "cell_type": "code",
   "execution_count": 7,
   "metadata": {},
   "outputs": [],
   "source": [
    "import boto3"
   ]
  },
  {
   "cell_type": "code",
   "execution_count": 19,
   "metadata": {},
   "outputs": [
    {
     "data": {
      "text/plain": [
       "<botocore.client.EC2 at 0x2968c923d70>"
      ]
     },
     "execution_count": 19,
     "metadata": {},
     "output_type": "execute_result"
    }
   ],
   "source": [
    "import boto3\n",
    "ec2 = boto3.client('ec2', region_name='us-east-1')  # Replace 'us-east-1' with your desired region\n",
    "ec2"
   ]
  },
  {
   "cell_type": "code",
   "execution_count": 20,
   "metadata": {},
   "outputs": [
    {
     "data": {
      "text/plain": [
       "{'Reservations': [],\n",
       " 'ResponseMetadata': {'RequestId': '5438d559-9d51-4bc0-a250-595d1ea8803b',\n",
       "  'HTTPStatusCode': 200,\n",
       "  'HTTPHeaders': {'x-amzn-requestid': '5438d559-9d51-4bc0-a250-595d1ea8803b',\n",
       "   'cache-control': 'no-cache, no-store',\n",
       "   'strict-transport-security': 'max-age=31536000; includeSubDomains',\n",
       "   'content-type': 'text/xml;charset=UTF-8',\n",
       "   'content-length': '219',\n",
       "   'date': 'Thu, 09 Jan 2025 17:25:02 GMT',\n",
       "   'server': 'AmazonEC2'},\n",
       "  'RetryAttempts': 0}}"
      ]
     },
     "execution_count": 20,
     "metadata": {},
     "output_type": "execute_result"
    }
   ],
   "source": [
    "ec2.describe_instances()"
   ]
  },
  {
   "cell_type": "markdown",
   "metadata": {},
   "source": [
    "Creating a Key-Pair"
   ]
  },
  {
   "cell_type": "code",
   "execution_count": 26,
   "metadata": {},
   "outputs": [],
   "source": [
    "response = ec2.create_key_pair(KeyName='SanjeevB')"
   ]
  },
  {
   "cell_type": "code",
   "execution_count": 28,
   "metadata": {},
   "outputs": [],
   "source": [
    "file = open(\"cred/SanjeevB.pem\",'w')\n",
    "file.write(response['KeyMaterial'])\n",
    "file.close()"
   ]
  },
  {
   "cell_type": "markdown",
   "metadata": {},
   "source": [
    "## Create an Amazon EC2 instance"
   ]
  },
  {
   "cell_type": "code",
   "execution_count": 32,
   "metadata": {},
   "outputs": [],
   "source": [
    "\n",
    "resp = ec2.run_instances(\n",
    "    ImageId='ami-01816d07b1128cd2d',  # Replace with your desired AMI ID\n",
    "    MinCount=1,\n",
    "    MaxCount=1,\n",
    "    InstanceType='t2.micro',  # Replace with your desired instance type\n",
    "    KeyName='SanjeevB',  # Replace with your key pair name\n",
    "    BlockDeviceMappings=[  # Corrected `BlockDeviceMapping` syntax\n",
    "        {\n",
    "            \"DeviceName\": \"/dev/xvda\",\n",
    "            \"Ebs\": {\n",
    "                'DeleteOnTermination': True,\n",
    "                'VolumeSize': 20\n",
    "            }\n",
    "        }\n",
    "    ]\n",
    ")\n"
   ]
  },
  {
   "cell_type": "code",
   "execution_count": 33,
   "metadata": {},
   "outputs": [
    {
     "data": {
      "text/plain": [
       "{'ReservationId': 'r-059d1a944cb804cfc',\n",
       " 'OwnerId': '324037308755',\n",
       " 'Groups': [],\n",
       " 'Instances': [{'Architecture': 'x86_64',\n",
       "   'BlockDeviceMappings': [],\n",
       "   'ClientToken': '91c9b138-de72-44f2-8f84-aac50844e1fb',\n",
       "   'EbsOptimized': False,\n",
       "   'EnaSupport': True,\n",
       "   'Hypervisor': 'xen',\n",
       "   'NetworkInterfaces': [{'Attachment': {'AttachTime': datetime.datetime(2025, 1, 9, 17, 41, 2, tzinfo=tzutc()),\n",
       "      'AttachmentId': 'eni-attach-053cbfc7552ed6ae1',\n",
       "      'DeleteOnTermination': True,\n",
       "      'DeviceIndex': 0,\n",
       "      'Status': 'attaching',\n",
       "      'NetworkCardIndex': 0},\n",
       "     'Description': '',\n",
       "     'Groups': [{'GroupId': 'sg-0476aab69fd2360fe', 'GroupName': 'default'}],\n",
       "     'Ipv6Addresses': [],\n",
       "     'MacAddress': '12:86:00:69:f8:8d',\n",
       "     'NetworkInterfaceId': 'eni-05b38b9afe95d649a',\n",
       "     'OwnerId': '324037308755',\n",
       "     'PrivateDnsName': 'ip-172-31-89-178.ec2.internal',\n",
       "     'PrivateIpAddress': '172.31.89.178',\n",
       "     'PrivateIpAddresses': [{'Primary': True,\n",
       "       'PrivateDnsName': 'ip-172-31-89-178.ec2.internal',\n",
       "       'PrivateIpAddress': '172.31.89.178'}],\n",
       "     'SourceDestCheck': True,\n",
       "     'Status': 'in-use',\n",
       "     'SubnetId': 'subnet-01263af45e64e4eae',\n",
       "     'VpcId': 'vpc-05fc5e84cc71e9666',\n",
       "     'InterfaceType': 'interface',\n",
       "     'Operator': {'Managed': False}}],\n",
       "   'RootDeviceName': '/dev/xvda',\n",
       "   'RootDeviceType': 'ebs',\n",
       "   'SecurityGroups': [{'GroupId': 'sg-0476aab69fd2360fe',\n",
       "     'GroupName': 'default'}],\n",
       "   'SourceDestCheck': True,\n",
       "   'StateReason': {'Code': 'pending', 'Message': 'pending'},\n",
       "   'VirtualizationType': 'hvm',\n",
       "   'CpuOptions': {'CoreCount': 1, 'ThreadsPerCore': 1},\n",
       "   'CapacityReservationSpecification': {'CapacityReservationPreference': 'open'},\n",
       "   'MetadataOptions': {'State': 'pending',\n",
       "    'HttpTokens': 'required',\n",
       "    'HttpPutResponseHopLimit': 2,\n",
       "    'HttpEndpoint': 'enabled',\n",
       "    'HttpProtocolIpv6': 'disabled',\n",
       "    'InstanceMetadataTags': 'disabled'},\n",
       "   'EnclaveOptions': {'Enabled': False},\n",
       "   'BootMode': 'uefi-preferred',\n",
       "   'PrivateDnsNameOptions': {'HostnameType': 'ip-name',\n",
       "    'EnableResourceNameDnsARecord': False,\n",
       "    'EnableResourceNameDnsAAAARecord': False},\n",
       "   'MaintenanceOptions': {'AutoRecovery': 'default'},\n",
       "   'CurrentInstanceBootMode': 'legacy-bios',\n",
       "   'Operator': {'Managed': False},\n",
       "   'InstanceId': 'i-0265b6ba6a3fa0678',\n",
       "   'ImageId': 'ami-01816d07b1128cd2d',\n",
       "   'State': {'Code': 0, 'Name': 'pending'},\n",
       "   'PrivateDnsName': 'ip-172-31-89-178.ec2.internal',\n",
       "   'PublicDnsName': '',\n",
       "   'StateTransitionReason': '',\n",
       "   'KeyName': 'SanjeevB',\n",
       "   'AmiLaunchIndex': 0,\n",
       "   'ProductCodes': [],\n",
       "   'InstanceType': 't2.micro',\n",
       "   'LaunchTime': datetime.datetime(2025, 1, 9, 17, 41, 2, tzinfo=tzutc()),\n",
       "   'Placement': {'GroupName': '',\n",
       "    'Tenancy': 'default',\n",
       "    'AvailabilityZone': 'us-east-1d'},\n",
       "   'Monitoring': {'State': 'disabled'},\n",
       "   'SubnetId': 'subnet-01263af45e64e4eae',\n",
       "   'VpcId': 'vpc-05fc5e84cc71e9666',\n",
       "   'PrivateIpAddress': '172.31.89.178'}],\n",
       " 'ResponseMetadata': {'RequestId': '9ad7d5e3-4302-43a8-9458-652a47dc7bf4',\n",
       "  'HTTPStatusCode': 200,\n",
       "  'HTTPHeaders': {'x-amzn-requestid': '9ad7d5e3-4302-43a8-9458-652a47dc7bf4',\n",
       "   'cache-control': 'no-cache, no-store',\n",
       "   'strict-transport-security': 'max-age=31536000; includeSubDomains',\n",
       "   'vary': 'accept-encoding',\n",
       "   'content-type': 'text/xml;charset=UTF-8',\n",
       "   'content-length': '3761',\n",
       "   'date': 'Thu, 09 Jan 2025 17:41:02 GMT',\n",
       "   'server': 'AmazonEC2'},\n",
       "  'RetryAttempts': 0}}"
      ]
     },
     "execution_count": 33,
     "metadata": {},
     "output_type": "execute_result"
    }
   ],
   "source": [
    "resp"
   ]
  },
  {
   "cell_type": "code",
   "execution_count": 34,
   "metadata": {},
   "outputs": [
    {
     "data": {
      "text/plain": [
       "{'Reservations': [{'ReservationId': 'r-0021e911f257c34e3',\n",
       "   'OwnerId': '324037308755',\n",
       "   'Groups': [],\n",
       "   'Instances': [{'Architecture': 'x86_64',\n",
       "     'BlockDeviceMappings': [],\n",
       "     'ClientToken': 'd795c5cf-bd12-44f8-8af8-d5bbc4d68ce5',\n",
       "     'EbsOptimized': False,\n",
       "     'EnaSupport': True,\n",
       "     'Hypervisor': 'xen',\n",
       "     'NetworkInterfaces': [],\n",
       "     'RootDeviceName': '/dev/xvda',\n",
       "     'RootDeviceType': 'ebs',\n",
       "     'SecurityGroups': [],\n",
       "     'StateReason': {'Code': 'Client.UserInitiatedShutdown',\n",
       "      'Message': 'Client.UserInitiatedShutdown: User initiated shutdown'},\n",
       "     'VirtualizationType': 'hvm',\n",
       "     'CpuOptions': {'CoreCount': 1, 'ThreadsPerCore': 1},\n",
       "     'CapacityReservationSpecification': {'CapacityReservationPreference': 'open'},\n",
       "     'HibernationOptions': {'Configured': False},\n",
       "     'MetadataOptions': {'State': 'pending',\n",
       "      'HttpTokens': 'required',\n",
       "      'HttpPutResponseHopLimit': 2,\n",
       "      'HttpEndpoint': 'enabled',\n",
       "      'HttpProtocolIpv6': 'disabled',\n",
       "      'InstanceMetadataTags': 'disabled'},\n",
       "     'EnclaveOptions': {'Enabled': False},\n",
       "     'BootMode': 'uefi-preferred',\n",
       "     'PlatformDetails': 'Linux/UNIX',\n",
       "     'UsageOperation': 'RunInstances',\n",
       "     'UsageOperationUpdateTime': datetime.datetime(2025, 1, 9, 17, 40, 25, tzinfo=tzutc()),\n",
       "     'MaintenanceOptions': {'AutoRecovery': 'default'},\n",
       "     'CurrentInstanceBootMode': 'legacy-bios',\n",
       "     'NetworkPerformanceOptions': {'BandwidthWeighting': 'default'},\n",
       "     'Operator': {'Managed': False},\n",
       "     'InstanceId': 'i-031f59c5e3ac50e68',\n",
       "     'ImageId': 'ami-01816d07b1128cd2d',\n",
       "     'State': {'Code': 48, 'Name': 'terminated'},\n",
       "     'PrivateDnsName': '',\n",
       "     'PublicDnsName': '',\n",
       "     'StateTransitionReason': 'User initiated (2025-01-09 17:42:36 GMT)',\n",
       "     'KeyName': 'SanjeevB',\n",
       "     'AmiLaunchIndex': 0,\n",
       "     'ProductCodes': [],\n",
       "     'InstanceType': 't2.micro',\n",
       "     'LaunchTime': datetime.datetime(2025, 1, 9, 17, 40, 25, tzinfo=tzutc()),\n",
       "     'Placement': {'GroupName': '',\n",
       "      'Tenancy': 'default',\n",
       "      'AvailabilityZone': 'us-east-1d'},\n",
       "     'Monitoring': {'State': 'disabled'}}]},\n",
       "  {'ReservationId': 'r-059d1a944cb804cfc',\n",
       "   'OwnerId': '324037308755',\n",
       "   'Groups': [],\n",
       "   'Instances': [{'Architecture': 'x86_64',\n",
       "     'BlockDeviceMappings': [{'DeviceName': '/dev/xvda',\n",
       "       'Ebs': {'AttachTime': datetime.datetime(2025, 1, 9, 17, 41, 3, tzinfo=tzutc()),\n",
       "        'DeleteOnTermination': True,\n",
       "        'Status': 'attached',\n",
       "        'VolumeId': 'vol-028e60d7fe45f7ad0'}}],\n",
       "     'ClientToken': '91c9b138-de72-44f2-8f84-aac50844e1fb',\n",
       "     'EbsOptimized': False,\n",
       "     'EnaSupport': True,\n",
       "     'Hypervisor': 'xen',\n",
       "     'NetworkInterfaces': [{'Association': {'IpOwnerId': 'amazon',\n",
       "        'PublicDnsName': 'ec2-52-87-191-55.compute-1.amazonaws.com',\n",
       "        'PublicIp': '52.87.191.55'},\n",
       "       'Attachment': {'AttachTime': datetime.datetime(2025, 1, 9, 17, 41, 2, tzinfo=tzutc()),\n",
       "        'AttachmentId': 'eni-attach-053cbfc7552ed6ae1',\n",
       "        'DeleteOnTermination': True,\n",
       "        'DeviceIndex': 0,\n",
       "        'Status': 'attached',\n",
       "        'NetworkCardIndex': 0},\n",
       "       'Description': '',\n",
       "       'Groups': [{'GroupId': 'sg-0476aab69fd2360fe', 'GroupName': 'default'}],\n",
       "       'Ipv6Addresses': [],\n",
       "       'MacAddress': '12:86:00:69:f8:8d',\n",
       "       'NetworkInterfaceId': 'eni-05b38b9afe95d649a',\n",
       "       'OwnerId': '324037308755',\n",
       "       'PrivateDnsName': 'ip-172-31-89-178.ec2.internal',\n",
       "       'PrivateIpAddress': '172.31.89.178',\n",
       "       'PrivateIpAddresses': [{'Association': {'IpOwnerId': 'amazon',\n",
       "          'PublicDnsName': 'ec2-52-87-191-55.compute-1.amazonaws.com',\n",
       "          'PublicIp': '52.87.191.55'},\n",
       "         'Primary': True,\n",
       "         'PrivateDnsName': 'ip-172-31-89-178.ec2.internal',\n",
       "         'PrivateIpAddress': '172.31.89.178'}],\n",
       "       'SourceDestCheck': True,\n",
       "       'Status': 'in-use',\n",
       "       'SubnetId': 'subnet-01263af45e64e4eae',\n",
       "       'VpcId': 'vpc-05fc5e84cc71e9666',\n",
       "       'InterfaceType': 'interface',\n",
       "       'Operator': {'Managed': False}}],\n",
       "     'RootDeviceName': '/dev/xvda',\n",
       "     'RootDeviceType': 'ebs',\n",
       "     'SecurityGroups': [{'GroupId': 'sg-0476aab69fd2360fe',\n",
       "       'GroupName': 'default'}],\n",
       "     'SourceDestCheck': True,\n",
       "     'VirtualizationType': 'hvm',\n",
       "     'CpuOptions': {'CoreCount': 1, 'ThreadsPerCore': 1},\n",
       "     'CapacityReservationSpecification': {'CapacityReservationPreference': 'open'},\n",
       "     'HibernationOptions': {'Configured': False},\n",
       "     'MetadataOptions': {'State': 'applied',\n",
       "      'HttpTokens': 'required',\n",
       "      'HttpPutResponseHopLimit': 2,\n",
       "      'HttpEndpoint': 'enabled',\n",
       "      'HttpProtocolIpv6': 'disabled',\n",
       "      'InstanceMetadataTags': 'disabled'},\n",
       "     'EnclaveOptions': {'Enabled': False},\n",
       "     'BootMode': 'uefi-preferred',\n",
       "     'PlatformDetails': 'Linux/UNIX',\n",
       "     'UsageOperation': 'RunInstances',\n",
       "     'UsageOperationUpdateTime': datetime.datetime(2025, 1, 9, 17, 41, 2, tzinfo=tzutc()),\n",
       "     'PrivateDnsNameOptions': {'HostnameType': 'ip-name',\n",
       "      'EnableResourceNameDnsARecord': False,\n",
       "      'EnableResourceNameDnsAAAARecord': False},\n",
       "     'MaintenanceOptions': {'AutoRecovery': 'default'},\n",
       "     'CurrentInstanceBootMode': 'legacy-bios',\n",
       "     'NetworkPerformanceOptions': {'BandwidthWeighting': 'default'},\n",
       "     'Operator': {'Managed': False},\n",
       "     'InstanceId': 'i-0265b6ba6a3fa0678',\n",
       "     'ImageId': 'ami-01816d07b1128cd2d',\n",
       "     'State': {'Code': 16, 'Name': 'running'},\n",
       "     'PrivateDnsName': 'ip-172-31-89-178.ec2.internal',\n",
       "     'PublicDnsName': 'ec2-52-87-191-55.compute-1.amazonaws.com',\n",
       "     'StateTransitionReason': '',\n",
       "     'KeyName': 'SanjeevB',\n",
       "     'AmiLaunchIndex': 0,\n",
       "     'ProductCodes': [],\n",
       "     'InstanceType': 't2.micro',\n",
       "     'LaunchTime': datetime.datetime(2025, 1, 9, 17, 41, 2, tzinfo=tzutc()),\n",
       "     'Placement': {'GroupName': '',\n",
       "      'Tenancy': 'default',\n",
       "      'AvailabilityZone': 'us-east-1d'},\n",
       "     'Monitoring': {'State': 'disabled'},\n",
       "     'SubnetId': 'subnet-01263af45e64e4eae',\n",
       "     'VpcId': 'vpc-05fc5e84cc71e9666',\n",
       "     'PrivateIpAddress': '172.31.89.178',\n",
       "     'PublicIpAddress': '52.87.191.55'}]}],\n",
       " 'ResponseMetadata': {'RequestId': '0195d17a-5d5d-4293-be67-5deed93b3a71',\n",
       "  'HTTPStatusCode': 200,\n",
       "  'HTTPHeaders': {'x-amzn-requestid': '0195d17a-5d5d-4293-be67-5deed93b3a71',\n",
       "   'cache-control': 'no-cache, no-store',\n",
       "   'strict-transport-security': 'max-age=31536000; includeSubDomains',\n",
       "   'vary': 'accept-encoding',\n",
       "   'content-type': 'text/xml;charset=UTF-8',\n",
       "   'content-length': '7136',\n",
       "   'date': 'Thu, 09 Jan 2025 17:46:54 GMT',\n",
       "   'server': 'AmazonEC2'},\n",
       "  'RetryAttempts': 0}}"
      ]
     },
     "execution_count": 34,
     "metadata": {},
     "output_type": "execute_result"
    }
   ],
   "source": [
    "ec2.describe_instances()"
   ]
  },
  {
   "cell_type": "markdown",
   "metadata": {},
   "source": [
    "## Create Security Group and add rules to it\n",
    "- Security groups control inbound and outbound traffic of the EC2 instance network interface.\n",
    "- every EC2 instance must have at least one Security Group associated with it. If no Security Group has been specified during the EC2 instance launch, the default Security Group of the default VPC is associated with the instance."
   ]
  },
  {
   "cell_type": "code",
   "execution_count": 37,
   "metadata": {},
   "outputs": [],
   "source": [
    "resp = ec2.describe_security_groups()\n",
    "resp = ec2.create_security_group(\n",
    "    GroupName ='Sanjeev',\n",
    "    Description = \"Security Group for Testing\"\n",
    "\n",
    ")"
   ]
  },
  {
   "cell_type": "code",
   "execution_count": 38,
   "metadata": {},
   "outputs": [
    {
     "data": {
      "text/plain": [
       "{'GroupId': 'sg-09801880fca0cad43',\n",
       " 'SecurityGroupArn': 'arn:aws:ec2:us-east-1:324037308755:security-group/sg-09801880fca0cad43',\n",
       " 'ResponseMetadata': {'RequestId': '28f925a2-6ad1-402d-9228-5cac718feca1',\n",
       "  'HTTPStatusCode': 200,\n",
       "  'HTTPHeaders': {'x-amzn-requestid': '28f925a2-6ad1-402d-9228-5cac718feca1',\n",
       "   'cache-control': 'no-cache, no-store',\n",
       "   'strict-transport-security': 'max-age=31536000; includeSubDomains',\n",
       "   'content-type': 'text/xml;charset=UTF-8',\n",
       "   'content-length': '373',\n",
       "   'date': 'Fri, 10 Jan 2025 09:44:01 GMT',\n",
       "   'server': 'AmazonEC2'},\n",
       "  'RetryAttempts': 0}}"
      ]
     },
     "execution_count": 38,
     "metadata": {},
     "output_type": "execute_result"
    }
   ],
   "source": [
    "resp"
   ]
  },
  {
   "cell_type": "code",
   "execution_count": 39,
   "metadata": {},
   "outputs": [
    {
     "data": {
      "text/plain": [
       "'sg-09801880fca0cad43'"
      ]
     },
     "execution_count": 39,
     "metadata": {},
     "output_type": "execute_result"
    }
   ],
   "source": [
    "security_group_id=resp['GroupId']\n",
    "security_group_id"
   ]
  },
  {
   "cell_type": "code",
   "execution_count": 41,
   "metadata": {},
   "outputs": [
    {
     "name": "stdout",
     "output_type": "stream",
     "text": [
      "{'Return': True, 'SecurityGroupRules': [{'SecurityGroupRuleId': 'sgr-0981b46c58a8b00b7', 'GroupId': 'sg-09801880fca0cad43', 'GroupOwnerId': '324037308755', 'IsEgress': False, 'IpProtocol': 'tcp', 'FromPort': 22, 'ToPort': 22, 'CidrIpv4': '0.0.0.0/0', 'SecurityGroupRuleArn': 'arn:aws:ec2:us-east-1:324037308755:security-group-rule/sgr-0981b46c58a8b00b7'}], 'ResponseMetadata': {'RequestId': '0065dea3-c667-4037-a9f2-2d5be569ae46', 'HTTPStatusCode': 200, 'HTTPHeaders': {'x-amzn-requestid': '0065dea3-c667-4037-a9f2-2d5be569ae46', 'cache-control': 'no-cache, no-store', 'strict-transport-security': 'max-age=31536000; includeSubDomains', 'content-type': 'text/xml;charset=UTF-8', 'content-length': '696', 'date': 'Fri, 10 Jan 2025 09:54:16 GMT', 'server': 'AmazonEC2'}, 'RetryAttempts': 0}}\n"
     ]
    }
   ],
   "source": [
    "resp = ec2.authorize_security_group_ingress(\n",
    "    GroupId=security_group_id,  # Replace with your actual security group ID\n",
    "    IpPermissions=[\n",
    "        {\n",
    "            'IpProtocol': 'tcp',\n",
    "            'FromPort': 22,\n",
    "            'ToPort': 22,  # SSH\n",
    "            'IpRanges': [{'CidrIp': '0.0.0.0/0'}]  # Allow from all IPs\n",
    "        }\n",
    "    ]\n",
    ")\n",
    "\n",
    "print(resp)\n"
   ]
  },
  {
   "cell_type": "code",
   "execution_count": 42,
   "metadata": {},
   "outputs": [
    {
     "data": {
      "text/plain": [
       "{'Return': True,\n",
       " 'SecurityGroupRules': [{'SecurityGroupRuleId': 'sgr-0981b46c58a8b00b7',\n",
       "   'GroupId': 'sg-09801880fca0cad43',\n",
       "   'GroupOwnerId': '324037308755',\n",
       "   'IsEgress': False,\n",
       "   'IpProtocol': 'tcp',\n",
       "   'FromPort': 22,\n",
       "   'ToPort': 22,\n",
       "   'CidrIpv4': '0.0.0.0/0',\n",
       "   'SecurityGroupRuleArn': 'arn:aws:ec2:us-east-1:324037308755:security-group-rule/sgr-0981b46c58a8b00b7'}],\n",
       " 'ResponseMetadata': {'RequestId': '0065dea3-c667-4037-a9f2-2d5be569ae46',\n",
       "  'HTTPStatusCode': 200,\n",
       "  'HTTPHeaders': {'x-amzn-requestid': '0065dea3-c667-4037-a9f2-2d5be569ae46',\n",
       "   'cache-control': 'no-cache, no-store',\n",
       "   'strict-transport-security': 'max-age=31536000; includeSubDomains',\n",
       "   'content-type': 'text/xml;charset=UTF-8',\n",
       "   'content-length': '696',\n",
       "   'date': 'Fri, 10 Jan 2025 09:54:16 GMT',\n",
       "   'server': 'AmazonEC2'},\n",
       "  'RetryAttempts': 0}}"
      ]
     },
     "execution_count": 42,
     "metadata": {},
     "output_type": "execute_result"
    }
   ],
   "source": [
    "resp"
   ]
  },
  {
   "cell_type": "code",
   "execution_count": 44,
   "metadata": {},
   "outputs": [
    {
     "data": {
      "text/plain": [
       "{'Reservations': [{'ReservationId': 'r-059d1a944cb804cfc',\n",
       "   'OwnerId': '324037308755',\n",
       "   'Groups': [],\n",
       "   'Instances': [{'Architecture': 'x86_64',\n",
       "     'BlockDeviceMappings': [{'DeviceName': '/dev/xvda',\n",
       "       'Ebs': {'AttachTime': datetime.datetime(2025, 1, 9, 17, 41, 3, tzinfo=tzutc()),\n",
       "        'DeleteOnTermination': True,\n",
       "        'Status': 'attached',\n",
       "        'VolumeId': 'vol-028e60d7fe45f7ad0'}}],\n",
       "     'ClientToken': '91c9b138-de72-44f2-8f84-aac50844e1fb',\n",
       "     'EbsOptimized': False,\n",
       "     'EnaSupport': True,\n",
       "     'Hypervisor': 'xen',\n",
       "     'NetworkInterfaces': [{'Association': {'IpOwnerId': 'amazon',\n",
       "        'PublicDnsName': 'ec2-52-87-191-55.compute-1.amazonaws.com',\n",
       "        'PublicIp': '52.87.191.55'},\n",
       "       'Attachment': {'AttachTime': datetime.datetime(2025, 1, 9, 17, 41, 2, tzinfo=tzutc()),\n",
       "        'AttachmentId': 'eni-attach-053cbfc7552ed6ae1',\n",
       "        'DeleteOnTermination': True,\n",
       "        'DeviceIndex': 0,\n",
       "        'Status': 'attached',\n",
       "        'NetworkCardIndex': 0},\n",
       "       'Description': '',\n",
       "       'Groups': [{'GroupId': 'sg-0476aab69fd2360fe', 'GroupName': 'default'}],\n",
       "       'Ipv6Addresses': [],\n",
       "       'MacAddress': '12:86:00:69:f8:8d',\n",
       "       'NetworkInterfaceId': 'eni-05b38b9afe95d649a',\n",
       "       'OwnerId': '324037308755',\n",
       "       'PrivateDnsName': 'ip-172-31-89-178.ec2.internal',\n",
       "       'PrivateIpAddress': '172.31.89.178',\n",
       "       'PrivateIpAddresses': [{'Association': {'IpOwnerId': 'amazon',\n",
       "          'PublicDnsName': 'ec2-52-87-191-55.compute-1.amazonaws.com',\n",
       "          'PublicIp': '52.87.191.55'},\n",
       "         'Primary': True,\n",
       "         'PrivateDnsName': 'ip-172-31-89-178.ec2.internal',\n",
       "         'PrivateIpAddress': '172.31.89.178'}],\n",
       "       'SourceDestCheck': True,\n",
       "       'Status': 'in-use',\n",
       "       'SubnetId': 'subnet-01263af45e64e4eae',\n",
       "       'VpcId': 'vpc-05fc5e84cc71e9666',\n",
       "       'InterfaceType': 'interface',\n",
       "       'Operator': {'Managed': False}}],\n",
       "     'RootDeviceName': '/dev/xvda',\n",
       "     'RootDeviceType': 'ebs',\n",
       "     'SecurityGroups': [{'GroupId': 'sg-0476aab69fd2360fe',\n",
       "       'GroupName': 'default'}],\n",
       "     'SourceDestCheck': True,\n",
       "     'VirtualizationType': 'hvm',\n",
       "     'CpuOptions': {'CoreCount': 1, 'ThreadsPerCore': 1},\n",
       "     'CapacityReservationSpecification': {'CapacityReservationPreference': 'open'},\n",
       "     'HibernationOptions': {'Configured': False},\n",
       "     'MetadataOptions': {'State': 'applied',\n",
       "      'HttpTokens': 'required',\n",
       "      'HttpPutResponseHopLimit': 2,\n",
       "      'HttpEndpoint': 'enabled',\n",
       "      'HttpProtocolIpv6': 'disabled',\n",
       "      'InstanceMetadataTags': 'disabled'},\n",
       "     'EnclaveOptions': {'Enabled': False},\n",
       "     'BootMode': 'uefi-preferred',\n",
       "     'PlatformDetails': 'Linux/UNIX',\n",
       "     'UsageOperation': 'RunInstances',\n",
       "     'UsageOperationUpdateTime': datetime.datetime(2025, 1, 9, 17, 41, 2, tzinfo=tzutc()),\n",
       "     'PrivateDnsNameOptions': {'HostnameType': 'ip-name',\n",
       "      'EnableResourceNameDnsARecord': False,\n",
       "      'EnableResourceNameDnsAAAARecord': False},\n",
       "     'MaintenanceOptions': {'AutoRecovery': 'default'},\n",
       "     'CurrentInstanceBootMode': 'legacy-bios',\n",
       "     'NetworkPerformanceOptions': {'BandwidthWeighting': 'default'},\n",
       "     'Operator': {'Managed': False},\n",
       "     'InstanceId': 'i-0265b6ba6a3fa0678',\n",
       "     'ImageId': 'ami-01816d07b1128cd2d',\n",
       "     'State': {'Code': 16, 'Name': 'running'},\n",
       "     'PrivateDnsName': 'ip-172-31-89-178.ec2.internal',\n",
       "     'PublicDnsName': 'ec2-52-87-191-55.compute-1.amazonaws.com',\n",
       "     'StateTransitionReason': '',\n",
       "     'KeyName': 'SanjeevB',\n",
       "     'AmiLaunchIndex': 0,\n",
       "     'ProductCodes': [],\n",
       "     'InstanceType': 't2.micro',\n",
       "     'LaunchTime': datetime.datetime(2025, 1, 9, 17, 41, 2, tzinfo=tzutc()),\n",
       "     'Placement': {'GroupName': '',\n",
       "      'Tenancy': 'default',\n",
       "      'AvailabilityZone': 'us-east-1d'},\n",
       "     'Monitoring': {'State': 'disabled'},\n",
       "     'SubnetId': 'subnet-01263af45e64e4eae',\n",
       "     'VpcId': 'vpc-05fc5e84cc71e9666',\n",
       "     'PrivateIpAddress': '172.31.89.178',\n",
       "     'PublicIpAddress': '52.87.191.55'}]}],\n",
       " 'ResponseMetadata': {'RequestId': 'fe3ab196-e0f3-4ed8-8565-701c85d30d7f',\n",
       "  'HTTPStatusCode': 200,\n",
       "  'HTTPHeaders': {'x-amzn-requestid': 'fe3ab196-e0f3-4ed8-8565-701c85d30d7f',\n",
       "   'cache-control': 'no-cache, no-store',\n",
       "   'strict-transport-security': 'max-age=31536000; includeSubDomains',\n",
       "   'vary': 'accept-encoding',\n",
       "   'content-type': 'text/xml;charset=UTF-8',\n",
       "   'content-length': '4731',\n",
       "   'date': 'Fri, 10 Jan 2025 10:11:15 GMT',\n",
       "   'server': 'AmazonEC2'},\n",
       "  'RetryAttempts': 0}}"
      ]
     },
     "execution_count": 44,
     "metadata": {},
     "output_type": "execute_result"
    }
   ],
   "source": [
    "#connecting the ec2 instance to the security group\n",
    "ec2.describe_instances()"
   ]
  },
  {
   "cell_type": "code",
   "execution_count": 45,
   "metadata": {},
   "outputs": [
    {
     "data": {
      "text/plain": [
       "'i-0265b6ba6a3fa0678'"
      ]
     },
     "execution_count": 45,
     "metadata": {},
     "output_type": "execute_result"
    }
   ],
   "source": [
    "#lets add the seurity group we created to the inbound rule\n",
    "\n",
    "response = ec2.describe_instances()\n",
    "\n",
    "instance_id=response['Reservations'][0]['Instances'][0]['InstanceId']\n",
    "#this is the instance we created"
   ]
  },
  {
   "cell_type": "code",
   "execution_count": 48,
   "metadata": {},
   "outputs": [],
   "source": [
    "old_gid=response['Reservations'][0]['Instances'][0]['SecurityGroups'][0]['GroupId']"
   ]
  },
  {
   "cell_type": "code",
   "execution_count": 50,
   "metadata": {},
   "outputs": [
    {
     "data": {
      "text/plain": [
       "{'ResponseMetadata': {'RequestId': '31bb65ec-6f19-4162-9ce2-c002db3ad7fd',\n",
       "  'HTTPStatusCode': 200,\n",
       "  'HTTPHeaders': {'x-amzn-requestid': '31bb65ec-6f19-4162-9ce2-c002db3ad7fd',\n",
       "   'cache-control': 'no-cache, no-store',\n",
       "   'strict-transport-security': 'max-age=31536000; includeSubDomains',\n",
       "   'content-type': 'text/xml;charset=UTF-8',\n",
       "   'content-length': '235',\n",
       "   'date': 'Fri, 10 Jan 2025 10:19:59 GMT',\n",
       "   'server': 'AmazonEC2'},\n",
       "  'RetryAttempts': 0}}"
      ]
     },
     "execution_count": 50,
     "metadata": {},
     "output_type": "execute_result"
    }
   ],
   "source": [
    "ec2.modify_instance_attribute(InstanceId=instance_id,Groups=[security_group_id])\n"
   ]
  },
  {
   "cell_type": "markdown",
   "metadata": {},
   "source": [
    "## Start, Stop and Delete Amazon EC2 instances"
   ]
  },
  {
   "cell_type": "code",
   "execution_count": 61,
   "metadata": {},
   "outputs": [
    {
     "name": "stdout",
     "output_type": "stream",
     "text": [
      "EC2 Instance Start\n",
      "Instance is in running state\n"
     ]
    }
   ],
   "source": [
    "# to check the status of the MLops --> running,stopped,temrinated,pending,etc.\n",
    "# to re start the status again we have to see if its pending and then running \n",
    "import time \n",
    "\n",
    "# lets create a function to check the status of the instance:\n",
    "def wait_for_status(instance_id,target_status):\n",
    "    while True:\n",
    "        response= ec2.describe_instances(InstanceIds=instance_id) #gets the description of the instance\n",
    "\n",
    "        status = response['Reservations'][0]['Instances'][0]['State']['Name']\n",
    "\n",
    "        if status == target_status:\n",
    "            print(\"Instance is in {} state\".format(target_status))\n",
    "            break\n",
    "        \n",
    "        time.sleep(10)\n",
    "\n",
    "def start_instances(instance_id):\n",
    "    print(\"EC2 Instance Start\")\n",
    "    ec2.start_instances(InstanceIds=instance_id)\n",
    "    wait_for_status(instance_id,'running')\n",
    "\n",
    "start_instances([instance_id])\n",
    "\n",
    "\n",
    "\n"
   ]
  },
  {
   "cell_type": "code",
   "execution_count": 60,
   "metadata": {},
   "outputs": [
    {
     "name": "stdout",
     "output_type": "stream",
     "text": [
      "EC2 Instance Stop\n",
      "Instance is in stopped state\n"
     ]
    }
   ],
   "source": [
    "def stop_instances(instance_id):\n",
    "    print(\"EC2 Instance Stop\")\n",
    "    ec2.stop_instances(InstanceIds=instance_id)\n",
    "    wait_for_status(instance_id,'stopped')\n",
    "stop_instances([instance_id])\n"
   ]
  },
  {
   "cell_type": "code",
   "execution_count": 62,
   "metadata": {},
   "outputs": [
    {
     "name": "stdout",
     "output_type": "stream",
     "text": [
      "EC2 Instance Termination\n",
      "Instance is in terminated state\n"
     ]
    }
   ],
   "source": [
    "def terminate_instances(instance_id):\n",
    "    print(\"EC2 Instance Termination\")\n",
    "    ec2.terminate_instances(InstanceIds=instance_id)\n",
    "    wait_for_status(instance_id,'terminated')\n",
    "terminate_instances([instance_id])\n"
   ]
  }
 ],
 "metadata": {
  "kernelspec": {
   "display_name": "base",
   "language": "python",
   "name": "python3"
  },
  "language_info": {
   "codemirror_mode": {
    "name": "ipython",
    "version": 3
   },
   "file_extension": ".py",
   "mimetype": "text/x-python",
   "name": "python",
   "nbconvert_exporter": "python",
   "pygments_lexer": "ipython3",
   "version": "3.12.7"
  }
 },
 "nbformat": 4,
 "nbformat_minor": 4
}
